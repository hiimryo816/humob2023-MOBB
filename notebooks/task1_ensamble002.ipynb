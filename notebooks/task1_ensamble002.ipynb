{
 "cells": [
  {
   "cell_type": "code",
   "execution_count": 1,
   "metadata": {},
   "outputs": [],
   "source": [
    "import pandas as pd\n",
    "import numpy as np\n",
    "import matplotlib.pyplot as plt\n",
    "import seaborn as sns\n",
    "from tqdm import tqdm\n",
    "# import datetime\n",
    "import os\n",
    "import gc\n",
    "# from sklearn.preprocessing import LabelEncoder\n",
    "\n",
    "import lightgbm as lgb\n",
    "\n",
    "import geobleu\n",
    "from joblib import Parallel, delayed\n",
    "from tqdm import tqdm\n",
    "\n",
    "#　擬似スコア\n",
    "from sklearn.metrics import recall_score\n",
    "from sklearn.metrics import precision_score\n",
    "from sklearn.metrics import f1_score\n",
    "\n",
    "from sklearn.ensemble import RandomForestClassifier\n",
    "from sklearn.datasets import make_classification\n",
    "from sklearn.metrics import accuracy_score\n",
    "\n",
    "from sklearn.model_selection import GroupKFold\n",
    "from collections import Counter, defaultdict\n",
    "\n",
    "import warnings\n",
    "warnings.filterwarnings('ignore')\n",
    "\n",
    "import sys\n",
    "sys.path.append(\"../src\")\n",
    "\n",
    "import importlib\n",
    "from util import *\n",
    "import util\n",
    "\n",
    "from calc_metrices import *\n",
    "import calc_metrices"
   ]
  },
  {
   "cell_type": "code",
   "execution_count": 2,
   "metadata": {},
   "outputs": [],
   "source": [
    "class Config:\n",
    "\n",
    "  exp = 'ens'\n",
    "  data = \"BA\"\n",
    "  task = 'task1'\n",
    "\n",
    "  # candidate hypara. group window_size\n",
    "  window_size = 3\n",
    "  co_start_day = 0\n",
    "  co_end_day = 59\n",
    "\n",
    "  # co-visitation matrix\n",
    "  n_ago = 3\n",
    "  \n",
    "  # train test split. taskごとに要変更\n",
    "  # start_uid = 60000\n",
    "  # end_uid = 69999\n",
    "  train_start_day = 0\n",
    "  train_end_day = 59\n",
    "  test_start_day = 60\n",
    "  test_end_day = 74\n",
    "\n",
    "  # train, valid split. taskごとに要変更\n",
    "  model_train_start_day = 0\n",
    "  model_train_end_day = 40\n",
    "  model_valid_start_day = 41\n",
    "  model_valid_end_day = 59\n",
    "\n",
    "  seed = 123\n",
    "  debug = False\n"
   ]
  },
  {
   "cell_type": "code",
   "execution_count": 3,
   "metadata": {},
   "outputs": [],
   "source": [
    "# INPUT_DIR = f'/root/humob/input/pkl/' #各自データがあるパスに変更の必要あり\n",
    "# OUTPUT_DIR = f'/root/humob/exp/output/{Config.task}/exp{Config.exp}/'\n",
    "DATA_DIR = f'/root/humob/pub/data/{Config.task}/{Config.data}'\n",
    "# if not os.path.exists(OUTPUT_DIR):\n",
    "#   os.makedirs(OUTPUT_DIR)"
   ]
  },
  {
   "cell_type": "code",
   "execution_count": 4,
   "metadata": {},
   "outputs": [],
   "source": [
    "all_days = [i for i in range(75)]\n",
    "weekend_list = [0, 1, 6, 7, 8, 13, 14, 20, 21, 27, 28, 29, 34, 35, 37, 41, 42, 48, 49, 50, 55, 56, 62, 63, 69, 70,]\n",
    "weekday_list = [day for day in all_days if day not in weekend_list]"
   ]
  },
  {
   "cell_type": "code",
   "execution_count": 5,
   "metadata": {},
   "outputs": [],
   "source": [
    "## Features to train the model\n",
    "FEATURES = ['wd', 'over_d', 'log_len_median', 'log_len_mean',\n",
    "            'log_len_std', 'log_len_skew', 'wd_log_len_median', 'wd_log_len_mean',\n",
    "            'wd_log_len_std', 'wd_log_len_skew', 'top1_ratio', 'wd_flag',\n",
    "\n",
    "            \"log_len\",\n",
    "            \"t0_11_cnt\",\n",
    "            \"t12_23_cnt\",\n",
    "            \"t24_35_cnt\",\n",
    "            \"t36_47_cnt\",\n",
    "            \"xy_nunique\",\n",
    "\n",
    "            # ------- suzuki add ------- #\n",
    "\n",
    "            \"xy_var\",\n",
    "            \"xy_std\",\n",
    "            \"x_var\",\n",
    "            \"x_std\",\n",
    "            \"y_var\",\n",
    "            \"y_std\",\n",
    "            \"uid2xy_max\",\n",
    "            \"uid2xy_min\",\n",
    "            \"uid2x_max\",\n",
    "            \"uid2x_min\",\n",
    "            \"uid2y_max\",\n",
    "            \"uid2y_min\",\n",
    "            \"uid2xy_mean\",\n",
    "            \"uid2xy_median\",\n",
    "            \"uid2x_mean\",\n",
    "            \"uid2x_median\",\n",
    "            \"uid2y_mean\",\n",
    "            \"uid2y_median\",\n",
    "            \"uid2xy_wd_var\",\n",
    "            \"uid2xy_wd_std\",\n",
    "            \"uid2x_wd_var\",\n",
    "            \"uid2x_wd_std\",\n",
    "            \"uid2y_wd_var\",\n",
    "            \"uid2y_wd_std\",\n",
    "            \"uid2xy_wd_max\",\n",
    "            \"uid2xy_wd_min\",\n",
    "            \"uid2x_wd_max\",\n",
    "            \"uid2x_wd_min\",\n",
    "            \"uid2y_wd_max\",\n",
    "            \"uid2y_wd_min\",\n",
    "            \"uid2xy_wd_mean\",\n",
    "            \"uid2xy_wd_median\",\n",
    "            \"uid2x_wd_mean\",\n",
    "            \"uid2x_wd_median\",\n",
    "            \"uid2y_wd_mean\",\n",
    "            \"uid2y_wd_median\",\n",
    "            \"uid2xy_diff_max_min\",\n",
    "            \"uid2x_diff_max_min\",\n",
    "            \"uid2y_diff_max_min\",\n",
    "            \"uid2xy_diff_max_mean\",\n",
    "            \"uid2x_diff_max_mean\",\n",
    "            \"uid2y_diff_max_mean\",\n",
    "            \"uid2xy_diff_mean_min\",\n",
    "            \"uid2x_diff_mean_min\",\n",
    "            \"uid2y_diff_mean_min\",\n",
    "            \"uid2xy_diff_max_median\",\n",
    "            \"uid2x_diff_max_median\",\n",
    "            \"uid2y_diff_max_median\",\n",
    "            \"uid2xy_diff_median_min\",\n",
    "            \"uid2x_diff_median_min\",\n",
    "            \"uid2y_diff_median_min\",\n",
    "            \"uid2xy_wd_diff_max_min\",\n",
    "            \"uid2x_wd_diff_max_min\",\n",
    "            \"uid2y_wd_diff_max_min\",\n",
    "            \"uid2xy_wd_diff_max_mean\",\n",
    "            \"uid2x_wd_diff_max_mean\",\n",
    "            \"uid2y_wd_diff_max_mean\",\n",
    "            \"uid2xy_wd_diff_mean_min\",\n",
    "            \"uid2x_wd_diff_mean_min\",\n",
    "            \"uid2y_wd_diff_mean_min\",\n",
    "            \"uid2xy_wd_diff_max_median\",\n",
    "            \"uid2x_wd_diff_max_median\",\n",
    "            \"uid2y_wd_diff_max_median\",\n",
    "            \"uid2xy_wd_diff_median_min\",\n",
    "            \"uid2x_wd_diff_median_min\",\n",
    "            \"uid2y_wd_diff_median_min\",\n",
    "            'uid_xy_distance',\n",
    "            'uid_wd_xy_distance',\n",
    "\n",
    "            # ------------------------------- #\n",
    "\n",
    "            ]"
   ]
  },
  {
   "cell_type": "code",
   "execution_count": 6,
   "metadata": {},
   "outputs": [],
   "source": [
    "# lgbm_t_grt_make_data_train.ipynb実行済みであることを前提とする\n",
    "pqt_list = list_pqt_files(DATA_DIR+\"/train/\")"
   ]
  },
  {
   "cell_type": "code",
   "execution_count": 7,
   "metadata": {},
   "outputs": [],
   "source": [
    "train_df = pd.concat([pd.read_parquet(f\"{DATA_DIR}/train/{pqt}\") for pqt in pqt_list],axis=1)\n",
    "valid_df = pd.concat([pd.read_parquet(f\"{DATA_DIR}/valid/{pqt}\") for pqt in pqt_list],axis=1)\n",
    "test_df = pd.concat([pd.read_parquet(f\"{DATA_DIR}/test/{pqt}\") for pqt in pqt_list],axis=1)"
   ]
  },
  {
   "cell_type": "code",
   "execution_count": 8,
   "metadata": {},
   "outputs": [],
   "source": [
    "train_df[\"target\"] = (train_df[\"pred_t_geobleu\"] > train_df[\"pred_group_t_geobleu\"]) # 出し分けのためのtarget設定"
   ]
  },
  {
   "cell_type": "code",
   "execution_count": 9,
   "metadata": {},
   "outputs": [],
   "source": [
    "# GroupKFold\n",
    "gkf = GroupKFold(n_splits=4)\n",
    "for fold,(train_index, test_index) in enumerate(gkf.split(train_df[FEATURES], train_df['target'], train_df[\"uid\"])):\n",
    "    train_df.loc[test_index, \"group\"] = fold"
   ]
  },
  {
   "cell_type": "markdown",
   "metadata": {},
   "source": [
    "## RF"
   ]
  },
  {
   "cell_type": "code",
   "execution_count": 10,
   "metadata": {},
   "outputs": [
    {
     "name": "stdout",
     "output_type": "stream",
     "text": [
      "trained model exists, loading…\n",
      "----- fold 0 -------\n",
      "acc : 0.6361411507959704\n",
      "f1 : 0.7386202031286743\n",
      "----- fold 1 -------\n",
      "acc : 0.6380195241713918\n",
      "f1 : 0.7410121288163948\n",
      "----- fold 2 -------\n",
      "acc : 0.6361319387071129\n",
      "f1 : 0.7383069127110473\n",
      "----- fold 3 -------\n",
      "acc : 0.63696732331794\n",
      "f1 : 0.7397629942508506\n"
     ]
    }
   ],
   "source": [
    "train_df[\"proba\"] = -1\n",
    "rf_models = []\n",
    "model_path = f\"{DATA_DIR}/{Config.exp}_rfmodels.pkl\"\n",
    "if check_exist_file(model_path):\n",
    "    print(\"trained model exists, loading…\")\n",
    "    rf_models = load_file(model_path)\n",
    "for i in range(4):\n",
    "    print(f\"----- fold {i} -------\")\n",
    "    X_train, y_train = train_df.loc[train_df.group!=i][FEATURES], train_df.loc[train_df.group!=i][\"target\"]\n",
    "    X_valid, y_valid = train_df.loc[train_df.group==i][FEATURES], train_df.loc[train_df.group==i][\"target\"]    \n",
    "    if check_exist_file(model_path):\n",
    "        rf_models = load_file(model_path)\n",
    "    else:\n",
    "        model = RandomForestClassifier(max_depth=6,\n",
    "                                    max_features=0.50,\n",
    "                                    n_estimators=500,\n",
    "                                    random_state=2023\n",
    "                                    )\n",
    "        model.fit(X_train, y_train)\n",
    "        rf_models.append(model)\n",
    "    y_pred = rf_models[i].predict_proba(X_valid)\n",
    "    train_df.loc[train_df.group==i,f\"rf_proba{i}\"] = y_pred[:,1]\n",
    "    print(f\"acc : {accuracy_score((y_pred[:,1]>0.5),y_valid)}\")\n",
    "    print(f\"f1 : {f1_score((y_pred[:,1]>0.5),y_valid)}\")\n",
    "train_df[\"rf_proba\"] = train_df[[\"rf_proba0\", \"rf_proba1\", \"rf_proba2\", \"rf_proba3\"]].mean(axis=1)\n",
    "if not check_exist_file(model_path):\n",
    "    save_file(models, model_path)"
   ]
  },
  {
   "cell_type": "markdown",
   "metadata": {},
   "source": [
    "## LGBM"
   ]
  },
  {
   "cell_type": "code",
   "execution_count": 11,
   "metadata": {},
   "outputs": [
    {
     "name": "stdout",
     "output_type": "stream",
     "text": [
      "----- fold 0 -------\n",
      "[LightGBM] [Info] Number of positive: 460583, number of negative: 309231\n",
      "[LightGBM] [Info] Auto-choosing col-wise multi-threading, the overhead of testing was 0.072556 seconds.\n",
      "You can set `force_col_wise=true` to remove the overhead.\n",
      "[LightGBM] [Info] Total Bins 18448\n",
      "[LightGBM] [Info] Number of data points in the train set: 769814, number of used features: 86\n",
      "[LightGBM] [Info] [binary:BoostFromScore]: pavg=0.598304 -> initscore=0.398405\n",
      "[LightGBM] [Info] Start training from score 0.398405\n",
      "Training until validation scores don't improve for 10 rounds\n",
      "Early stopping, best iteration is:\n",
      "[87]\tvalid_0's binary_logloss: 0.631107\n",
      "acc : 0.6408682605561077\n",
      "f1 : 0.7330627898421637\n",
      "----- fold 1 -------\n",
      "[LightGBM] [Info] Number of positive: 459897, number of negative: 309917\n",
      "[LightGBM] [Info] Auto-choosing col-wise multi-threading, the overhead of testing was 0.059400 seconds.\n",
      "You can set `force_col_wise=true` to remove the overhead.\n",
      "[LightGBM] [Info] Total Bins 18450\n",
      "[LightGBM] [Info] Number of data points in the train set: 769814, number of used features: 86\n",
      "[LightGBM] [Info] [binary:BoostFromScore]: pavg=0.597413 -> initscore=0.394698\n",
      "[LightGBM] [Info] Start training from score 0.394698\n",
      "Training until validation scores don't improve for 10 rounds\n",
      "Early stopping, best iteration is:\n",
      "[84]\tvalid_0's binary_logloss: 0.62979\n",
      "acc : 0.6429492800218234\n",
      "f1 : 0.7353363433368287\n",
      "----- fold 2 -------\n",
      "[LightGBM] [Info] Number of positive: 460609, number of negative: 309206\n",
      "[LightGBM] [Info] Auto-choosing col-wise multi-threading, the overhead of testing was 0.062054 seconds.\n",
      "You can set `force_col_wise=true` to remove the overhead.\n",
      "[LightGBM] [Info] Total Bins 18448\n",
      "[LightGBM] [Info] Number of data points in the train set: 769815, number of used features: 86\n",
      "[LightGBM] [Info] [binary:BoostFromScore]: pavg=0.598337 -> initscore=0.398542\n",
      "[LightGBM] [Info] Start training from score 0.398542\n",
      "Training until validation scores don't improve for 10 rounds\n",
      "Early stopping, best iteration is:\n",
      "[72]\tvalid_0's binary_logloss: 0.631465\n",
      "acc : 0.640192670418232\n",
      "f1 : 0.7323857114700119\n",
      "----- fold 3 -------\n",
      "[LightGBM] [Info] Number of positive: 460065, number of negative: 309749\n",
      "[LightGBM] [Info] Auto-choosing col-wise multi-threading, the overhead of testing was 0.068330 seconds.\n",
      "You can set `force_col_wise=true` to remove the overhead.\n",
      "[LightGBM] [Info] Total Bins 18452\n",
      "[LightGBM] [Info] Number of data points in the train set: 769814, number of used features: 86\n",
      "[LightGBM] [Info] [binary:BoostFromScore]: pavg=0.597631 -> initscore=0.395605\n",
      "[LightGBM] [Info] Start training from score 0.395605\n",
      "Training until validation scores don't improve for 10 rounds\n",
      "Early stopping, best iteration is:\n",
      "[117]\tvalid_0's binary_logloss: 0.629784\n",
      "acc : 0.6402564252450264\n",
      "f1 : 0.7321650322056519\n"
     ]
    }
   ],
   "source": [
    "# train_df[\"lgb_proba\"] = -1\n",
    "lgb_models = []\n",
    "lgb_model_path = f\"{DATA_DIR}/{Config.exp}_lgbmodels.pkl\"\n",
    "\n",
    "if check_exist_file(lgb_model_path):\n",
    "    models = load_file(lgb_model_path)\n",
    "\n",
    "for i in range(4):\n",
    "    print(f\"----- fold {i} -------\")\n",
    "    X_train, y_train = train_df.loc[train_df.group!=i][FEATURES], train_df.loc[train_df.group!=i][\"target\"]\n",
    "    X_valid, y_valid = train_df.loc[train_df.group==i][FEATURES], train_df.loc[train_df.group==i][\"target\"]\n",
    "\n",
    "    lgb_train = lgb.Dataset(X_train, label=y_train)\n",
    "    lgb_valid = lgb.Dataset(X_valid, label=y_valid)\n",
    "\n",
    "    if check_exist_file(lgb_model_path):\n",
    "        models = load_file(lgb_model_path)\n",
    "    else:\n",
    "        params = {\n",
    "            'objective': 'binary',\n",
    "            'metric': 'binary_logloss'\n",
    "        }\n",
    "\n",
    "        model = lgb.train(params, lgb_train,\n",
    "                          valid_sets=[lgb_valid],\n",
    "                          num_boost_round=10000,\n",
    "                          callbacks=[lgb.early_stopping(stopping_rounds=10, verbose=True)]\n",
    "                )\n",
    "\n",
    "        lgb_models.append(model)\n",
    "\n",
    "    y_pred = lgb_models[i].predict(X_valid)\n",
    "    train_df.loc[train_df.group==i, f\"lgb_proba{i}\"] = y_pred\n",
    "\n",
    "    threshold = 0.5  # This threshold can be tuned based on the requirement\n",
    "    print(f\"acc : {accuracy_score((y_pred > threshold).astype(int), y_valid)}\")\n",
    "    print(f\"f1 : {f1_score((y_pred > threshold).astype(int), y_valid)}\")\n",
    "\n",
    "train_df[\"lgb_proba\"] = train_df[[\"lgb_proba0\", \"lgb_proba1\", \"lgb_proba2\", \"lgb_proba3\"]].mean(axis=1)"
   ]
  },
  {
   "cell_type": "markdown",
   "metadata": {},
   "source": [
    "## XGB"
   ]
  },
  {
   "cell_type": "code",
   "execution_count": 12,
   "metadata": {},
   "outputs": [
    {
     "name": "stdout",
     "output_type": "stream",
     "text": [
      "----- fold 0 -------\n",
      "[0]\ttrain-logloss:0.66547\teval-logloss:0.66620\n",
      "[10]\ttrain-logloss:0.62824\teval-logloss:0.63258\n",
      "[20]\ttrain-logloss:0.62477\teval-logloss:0.63189\n",
      "[29]\ttrain-logloss:0.62279\teval-logloss:0.63198\n",
      "acc : 0.6396290017731533\n",
      "f1 : 0.7330540889290467\n",
      "----- fold 1 -------\n",
      "[0]\ttrain-logloss:0.66577\teval-logloss:0.66573\n",
      "[10]\ttrain-logloss:0.62889\teval-logloss:0.63096\n",
      "[20]\ttrain-logloss:0.62535\teval-logloss:0.63020\n",
      "[30]\ttrain-logloss:0.62326\teval-logloss:0.63015\n",
      "[34]\ttrain-logloss:0.62246\teval-logloss:0.63024\n",
      "acc : 0.6417100212388691\n",
      "f1 : 0.7343087588899453\n",
      "----- fold 2 -------\n",
      "[0]\ttrain-logloss:0.66546\teval-logloss:0.66586\n",
      "[10]\ttrain-logloss:0.62829\teval-logloss:0.63264\n",
      "[20]\ttrain-logloss:0.62516\teval-logloss:0.63225\n",
      "[25]\ttrain-logloss:0.62391\teval-logloss:0.63228\n",
      "acc : 0.6390313479135166\n",
      "f1 : 0.7318328681775544\n",
      "----- fold 3 -------\n",
      "[0]\ttrain-logloss:0.66564\teval-logloss:0.66600\n",
      "[10]\ttrain-logloss:0.62879\teval-logloss:0.63151\n",
      "[20]\ttrain-logloss:0.62540\teval-logloss:0.63078\n",
      "[30]\ttrain-logloss:0.62329\teval-logloss:0.63082\n",
      "[33]\ttrain-logloss:0.62248\teval-logloss:0.63085\n",
      "acc : 0.6393406207985035\n",
      "f1 : 0.7319676902714586\n"
     ]
    }
   ],
   "source": [
    "import xgboost as xgb\n",
    "\n",
    "train_df[\"xgb_proba\"] = -1\n",
    "xgb_models = []\n",
    "xgb_model_path = f\"{DATA_DIR}/{Config.exp}_xgbmodels.pkl\"\n",
    "\n",
    "if check_exist_file(xgb_model_path):\n",
    "    xgb_models = load_file(xgb_model_path)\n",
    "    \n",
    "for i in range(4):\n",
    "    print(f\"----- fold {i} -------\")\n",
    "    X_train, y_train = train_df.loc[train_df.group!=i][FEATURES], train_df.loc[train_df.group!=i][\"target\"]\n",
    "    X_valid, y_valid = train_df.loc[train_df.group==i][FEATURES], train_df.loc[train_df.group==i][\"target\"]\n",
    "\n",
    "    dtrain = xgb.DMatrix(X_train, label=y_train)\n",
    "    dvalid = xgb.DMatrix(X_valid, label=y_valid)\n",
    "\n",
    "    if check_exist_file(xgb_model_path):\n",
    "        xgb_models = load_file(xgb_model_path)\n",
    "    else:\n",
    "        param = {'objective': 'binary:logistic'}\n",
    "        evaluation_results = {}\n",
    "        model = xgb.train(param,\n",
    "                        dtrain,\n",
    "                        num_boost_round=10000,\n",
    "                        early_stopping_rounds=10,\n",
    "                        evals=[(dtrain, 'train'), (dvalid, 'eval')],\n",
    "                        evals_result=evaluation_results,\n",
    "                        verbose_eval=10\n",
    "                        )\n",
    "\n",
    "        xgb_models.append(model)\n",
    "\n",
    "\n",
    "    y_pred = xgb_models[i].predict(dvalid)\n",
    "    train_df.loc[train_df.group==i,f\"xgb_proba{i}\"] = y_pred\n",
    "\n",
    "    threshold = 0.5  # This threshold can be tuned based on the requirement\n",
    "    print(f\"acc : {accuracy_score((y_pred > threshold).astype(int), y_valid)}\")\n",
    "    print(f\"f1 : {f1_score((y_pred > threshold).astype(int), y_valid)}\")\n",
    "train_df[\"xgb_proba\"] = train_df[[\"xgb_proba0\", \"xgb_proba1\", \"xgb_proba2\", \"xgb_proba3\"]].mean(axis=1)"
   ]
  },
  {
   "cell_type": "code",
   "execution_count": 13,
   "metadata": {},
   "outputs": [
    {
     "name": "stdout",
     "output_type": "stream",
     "text": [
      "----- fold 0 -------\n",
      "Learning rate set to 0.060096\n",
      "0:\tlearn: 0.6869182\ttest: 0.6870144\tbest: 0.6870144 (0)\ttotal: 95.2ms\tremaining: 15m 51s\n",
      "Stopped by overfitting detector  (10 iterations wait)\n",
      "\n",
      "bestTest = 0.6308512554\n",
      "bestIteration = 426\n",
      "\n",
      "Shrink model to first 427 iterations.\n",
      "acc : 0.6407435552697726\n",
      "f1 : 0.7347815955050361\n",
      "----- fold 1 -------\n",
      "Learning rate set to 0.060096\n",
      "0:\tlearn: 0.6869855\ttest: 0.6869393\tbest: 0.6869393 (0)\ttotal: 49.6ms\tremaining: 8m 15s\n",
      "Stopped by overfitting detector  (10 iterations wait)\n",
      "\n",
      "bestTest = 0.6294687859\n",
      "bestIteration = 398\n",
      "\n",
      "Shrink model to first 399 iterations.\n",
      "acc : 0.643136337951326\n",
      "f1 : 0.7371997784480457\n",
      "----- fold 2 -------\n",
      "Learning rate set to 0.060096\n",
      "0:\tlearn: 0.6869540\ttest: 0.6869689\tbest: 0.6869689 (0)\ttotal: 54.2ms\tremaining: 9m 2s\n",
      "Stopped by overfitting detector  (10 iterations wait)\n",
      "\n",
      "bestTest = 0.6309976445\n",
      "bestIteration = 346\n",
      "\n",
      "Shrink model to first 347 iterations.\n",
      "acc : 0.6402978909136257\n",
      "f1 : 0.7345742738255111\n",
      "----- fold 3 -------\n",
      "Learning rate set to 0.060096\n",
      "0:\tlearn: 0.6870002\ttest: 0.6869620\tbest: 0.6869620 (0)\ttotal: 55.3ms\tremaining: 9m 13s\n",
      "Stopped by overfitting detector  (10 iterations wait)\n",
      "\n",
      "bestTest = 0.6294130082\n",
      "bestIteration = 441\n",
      "\n",
      "Shrink model to first 442 iterations.\n",
      "acc : 0.6412930379376863\n",
      "f1 : 0.7349760445939099\n"
     ]
    }
   ],
   "source": [
    "import catboost as cb\n",
    "\n",
    "train_df[\"cat_proba\"] = -1\n",
    "cat_models = []\n",
    "cat_model_path = f\"{DATA_DIR}/{Config.exp}_catmodels.pkl\"\n",
    "\n",
    "if check_exist_file(cat_model_path):\n",
    "    cat_models = load_file(cat_model_path)\n",
    "    \n",
    "for i in range(4):\n",
    "    print(f\"----- fold {i} -------\")\n",
    "    X_train, y_train = train_df.loc[train_df.group!=i][FEATURES], train_df.loc[train_df.group!=i][\"target\"]\n",
    "    X_valid, y_valid = train_df.loc[train_df.group==i][FEATURES], train_df.loc[train_df.group==i][\"target\"]\n",
    "\n",
    "    train_dataset = cb.Pool(X_train, y_train)\n",
    "    valid_dataset = cb.Pool(X_valid, y_valid)\n",
    "\n",
    "    if check_exist_file(cat_model_path):\n",
    "        cat_models = load_file(cat_model_path)\n",
    "    else:\n",
    "        model = cb.CatBoostClassifier(iterations=10000,\n",
    "                                      eval_metric='Logloss',\n",
    "                                      early_stopping_rounds=10,\n",
    "                                      verbose=1000)\n",
    "        model.fit(train_dataset, eval_set=valid_dataset)\n",
    "\n",
    "        cat_models.append(model)\n",
    "\n",
    "    y_pred = cat_models[i].predict_proba(valid_dataset)[:, 1]\n",
    "    train_df.loc[train_df.group==i, f\"cat_proba{i}\"] = y_pred\n",
    "\n",
    "    threshold = 0.5  # This threshold can be tuned based on the requirement\n",
    "    print(f\"acc : {accuracy_score((y_pred > threshold).astype(int), y_valid)}\")\n",
    "    print(f\"f1 : {f1_score((y_pred > threshold).astype(int), y_valid)}\")\n",
    "\n",
    "train_df[\"cat_proba\"] = train_df[[\"cat_proba0\", \"cat_proba1\", \"cat_proba2\", \"cat_proba3\"]].mean(axis=1)\n"
   ]
  },
  {
   "cell_type": "code",
   "execution_count": 14,
   "metadata": {},
   "outputs": [],
   "source": [
    "train_df[\"proba\"] = train_df[[\"lgb_proba0\", \"lgb_proba1\", \"lgb_proba2\", \"lgb_proba3\",\n",
    "                              \"cat_proba0\", \"cat_proba1\", \"cat_proba2\", \"cat_proba3\",\n",
    "                              \"xgb_proba0\", \"xgb_proba1\", \"xgb_proba2\", \"xgb_proba3\",\n",
    "                              \"rf_proba0\", \"rf_proba1\", \"rf_proba2\", \"rf_proba3\"\n",
    "                              ]].mean(axis=1)"
   ]
  },
  {
   "cell_type": "code",
   "execution_count": 15,
   "metadata": {},
   "outputs": [
    {
     "name": "stdout",
     "output_type": "stream",
     "text": [
      "train score\n",
      "weekday 0.32853793653096325\n",
      "weekend 0.2514692925442603\n"
     ]
    },
    {
     "data": {
      "text/plain": [
       "0.30867903811721786"
      ]
     },
     "execution_count": 15,
     "metadata": {},
     "output_type": "execute_result"
    }
   ],
   "source": [
    "def calc_ml_geobleu(train_df, proba, thr):\n",
    "\n",
    "    train_df.loc[train_df[proba]>thr,\"pred_score\"] =  train_df.loc[train_df[proba]>thr, \"pred_t_geobleu\"]\n",
    "    train_df.loc[train_df[proba]<=thr,\"pred_score\"] =  train_df.loc[train_df[proba]<=thr, \"pred_group_t_geobleu\"]\n",
    "\n",
    "    print(f\"weekday\",np.mean(train_df.loc[train_df.d.isin(weekday_list)].groupby(\"uid\")[\"pred_score\"].mean()))\n",
    "    print(f\"weekend\",np.mean(train_df.loc[train_df.d.isin(weekend_list)].groupby(\"uid\")[\"pred_score\"].mean()))\n",
    "    # print(f\"weekend : {weekend_t_score*(weekend_t_df.shape[0]/weekend_df.shape[0]) + weekend_grt_score*(weekend_grt_df.shape[0]/weekend_df.shape[0])}\")\n",
    "\n",
    "    geobleu_score = np.mean(train_df.groupby([\"uid\"])[\"pred_score\"].mean())\n",
    "    return geobleu_score\n",
    "    \n",
    "thr = 0.55 # train_dfでthr調整した.\n",
    "print(\"train score\")\n",
    "calc_ml_geobleu(train_df, \"proba\", thr=thr)"
   ]
  },
  {
   "cell_type": "code",
   "execution_count": 16,
   "metadata": {},
   "outputs": [
    {
     "name": "stdout",
     "output_type": "stream",
     "text": [
      "weekday 0.32774907980797324\n",
      "weekend 0.24057337096402476\n",
      "weekday 0.32775166258082067\n",
      "weekend 0.24219095135394553\n",
      "weekday 0.3277402510291603\n",
      "weekend 0.24373067161997405\n",
      "weekday 0.3277498148195814\n",
      "weekend 0.24522428545425795\n",
      "weekday 0.32777080463454045\n",
      "weekend 0.24649130762499796\n",
      "weekday 0.3277898112000975\n",
      "weekend 0.2476296651179568\n",
      "weekday 0.3278209952838515\n",
      "weekend 0.24854246892255807\n",
      "weekday 0.32788316550111796\n",
      "weekend 0.2493207880353471\n",
      "weekday 0.32795972962270137\n",
      "weekend 0.24994686587050902\n",
      "weekday 0.3280848550333528\n",
      "weekend 0.25039971599314376\n",
      "weekday 0.3282172989973371\n",
      "weekend 0.25078655970002534\n",
      "weekday 0.32832861635864646\n",
      "weekend 0.25104359156378764\n",
      "weekday 0.3284347304155987\n",
      "weekend 0.2512216443520627\n",
      "weekday 0.32849896560838154\n",
      "weekend 0.25137964165718174\n",
      "weekday 0.3285543992305155\n",
      "weekend 0.2514073329075672\n",
      "weekday 0.32853793653096325\n",
      "weekend 0.2514692925442603\n",
      "weekday 0.32845139809964413\n",
      "weekend 0.25147951883150604\n",
      "weekday 0.3282894091882542\n",
      "weekend 0.2514596277040464\n",
      "weekday 0.3280232724826794\n",
      "weekend 0.25143494995336013\n",
      "weekday 0.3276744193625367\n",
      "weekend 0.25138033484882794\n",
      "weekday 0.3272792988141336\n",
      "weekend 0.25130968169778917\n",
      "weekday 0.32684744477884503\n",
      "weekend 0.25120064421222904\n",
      "weekday 0.32633739603506107\n",
      "weekend 0.25109645467673875\n",
      "weekday 0.3258009933842988\n",
      "weekend 0.2509480913238453\n",
      "weekday 0.32523524550294547\n",
      "weekend 0.25083380280428075\n",
      "0.30867903811721786 0.55\n"
     ]
    },
    {
     "data": {
      "text/plain": [
       "Text(0.5, 1.0, 'ensamble train thr-geobleu curve')"
      ]
     },
     "execution_count": 16,
     "metadata": {},
     "output_type": "execute_result"
    },
    {
     "data": {
      "image/png": "[encoded data removed]",
      "text/plain": [
       "<Figure size 640x480 with 1 Axes>"
      ]
     },
     "metadata": {},
     "output_type": "display_data"
    }
   ],
   "source": [
    "thr_list = [0.40+i*0.01 for i in range(0, 25)]\n",
    "fig, ax = plt.subplots()\n",
    "geobleu_list = [calc_ml_geobleu(train_df, \"proba\", thr=thr) for thr in thr_list]\n",
    "print(np.max(geobleu_list), thr_list[np.argmax(geobleu_list)])\n",
    "ax.plot(thr_list, geobleu_list)\n",
    "ax.set_xlabel(\"thr\")\n",
    "ax.set_ylabel(\"geobleu\")\n",
    "ax.set_title(\"ensamble train thr-geobleu curve\")"
   ]
  },
  {
   "cell_type": "markdown",
   "metadata": {},
   "source": [
    "## Valid"
   ]
  },
  {
   "cell_type": "code",
   "execution_count": 17,
   "metadata": {},
   "outputs": [],
   "source": [
    "models_list = [lgb_models, cat_models, xgb_models, rf_models]"
   ]
  },
  {
   "cell_type": "code",
   "execution_count": 18,
   "metadata": {},
   "outputs": [
    {
     "name": "stdout",
     "output_type": "stream",
     "text": [
      "lgb\n",
      "cat\n",
      "xgb\n",
      "rf\n"
     ]
    }
   ],
   "source": [
    "for name, models in zip([\"lgb\", \"cat\", \"xgb\", \"rf\"], models_list):\n",
    "    print(name)\n",
    "    for i, model in enumerate(models):\n",
    "        if name == \"xgb\":\n",
    "            valid_df[f\"{name}_proba{i}\"] = model.predict(xgb.DMatrix(valid_df[FEATURES]))\n",
    "        elif name == \"lgb\":\n",
    "            valid_df[f\"{name}_proba{i}\"] = model.predict(valid_df[FEATURES])\n",
    "        else:\n",
    "            valid_df[f\"{name}_proba{i}\"] = model.predict_proba(valid_df[FEATURES])[:,1]"
   ]
  },
  {
   "cell_type": "code",
   "execution_count": 19,
   "metadata": {},
   "outputs": [],
   "source": [
    "valid_df[\"proba\"] = valid_df[[\"lgb_proba0\", \"lgb_proba1\", \"lgb_proba2\", \"lgb_proba3\",\n",
    "                              \"cat_proba0\", \"cat_proba1\", \"cat_proba2\", \"cat_proba3\",\n",
    "                              \"xgb_proba0\", \"xgb_proba1\", \"xgb_proba2\", \"xgb_proba3\",\n",
    "                              \"rf_proba0\", \"rf_proba1\", \"rf_proba2\", \"rf_proba3\"\n",
    "                              ]].mean(axis=1)"
   ]
  },
  {
   "cell_type": "code",
   "execution_count": 20,
   "metadata": {},
   "outputs": [
    {
     "name": "stdout",
     "output_type": "stream",
     "text": [
      "valid score\n",
      "weekday 0.34346160463662334\n",
      "weekend 0.275857460634233\n"
     ]
    },
    {
     "data": {
      "text/plain": [
       "0.3263432401577399"
      ]
     },
     "execution_count": 20,
     "metadata": {},
     "output_type": "execute_result"
    }
   ],
   "source": [
    "print(\"valid score\")\n",
    "thr = 0.54\n",
    "calc_ml_geobleu(valid_df, \"proba\",thr=thr)"
   ]
  },
  {
   "cell_type": "code",
   "execution_count": 21,
   "metadata": {},
   "outputs": [],
   "source": [
    "valid_df[[\"uid\" ,\"d\", \"wd\", \"proba\"]].to_csv(f\"{DATA_DIR}/valid_ensamble_output.csv\", index=False)"
   ]
  },
  {
   "cell_type": "markdown",
   "metadata": {},
   "source": [
    "## Test"
   ]
  },
  {
   "cell_type": "code",
   "execution_count": 22,
   "metadata": {},
   "outputs": [
    {
     "name": "stdout",
     "output_type": "stream",
     "text": [
      "lgb\n",
      "cat\n",
      "xgb\n",
      "rf\n"
     ]
    }
   ],
   "source": [
    "for name, models in zip([\"lgb\", \"cat\", \"xgb\", \"rf\"], models_list):\n",
    "    print(name)\n",
    "    for i, model in enumerate(models):\n",
    "        if name == \"xgb\":\n",
    "            test_df[f\"{name}_proba{i}\"] = model.predict(xgb.DMatrix(test_df[FEATURES]))\n",
    "        elif name == \"lgb\":\n",
    "            test_df[f\"{name}_proba{i}\"] = model.predict(test_df[FEATURES])\n",
    "        else:\n",
    "            test_df[f\"{name}_proba{i}\"] = model.predict_proba(test_df[FEATURES])[:,1]"
   ]
  },
  {
   "cell_type": "code",
   "execution_count": 23,
   "metadata": {},
   "outputs": [],
   "source": [
    "test_df[\"proba\"] = test_df[[\"lgb_proba0\", \"lgb_proba1\", \"lgb_proba2\", \"lgb_proba3\",\n",
    "                              \"cat_proba0\", \"cat_proba1\", \"cat_proba2\", \"cat_proba3\",\n",
    "                              \"xgb_proba0\", \"xgb_proba1\", \"xgb_proba2\", \"xgb_proba3\",\n",
    "                              \"rf_proba0\", \"rf_proba1\", \"rf_proba2\", \"rf_proba3\"\n",
    "                              ]].mean(axis=1)"
   ]
  },
  {
   "cell_type": "code",
   "execution_count": 24,
   "metadata": {},
   "outputs": [],
   "source": [
    "test_df[[\"uid\" ,\"d\", \"wd\", \"proba\"]].to_csv(f\"{DATA_DIR}/test_ensamble_output.csv\", index=False)"
   ]
  },
  {
   "cell_type": "markdown",
   "metadata": {},
   "source": [
    "EOF"
   ]
  }
 ],
 "metadata": {
  "kernelspec": {
   "display_name": "rapids",
   "language": "python",
   "name": "python3"
  },
  "language_info": {
   "codemirror_mode": {
    "name": "ipython",
    "version": 3
   },
   "file_extension": ".py",
   "mimetype": "text/x-python",
   "name": "python",
   "nbconvert_exporter": "python",
   "pygments_lexer": "ipython3",
   "version": "3.10.11"
  },
  "orig_nbformat": 4
 },
 "nbformat": 4,
 "nbformat_minor": 2
}
