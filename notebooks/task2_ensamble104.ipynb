{
 "cells": [
  {
   "cell_type": "code",
   "execution_count": 1,
   "metadata": {},
   "outputs": [],
   "source": [
    "import pandas as pd\n",
    "import numpy as np\n",
    "import matplotlib.pyplot as plt\n",
    "import seaborn as sns\n",
    "from tqdm import tqdm\n",
    "# import datetime\n",
    "import os\n",
    "import gc\n",
    "# from sklearn.preprocessing import LabelEncoder\n",
    "\n",
    "import lightgbm as lgb\n",
    "\n",
    "import geobleu\n",
    "from joblib import Parallel, delayed\n",
    "from tqdm import tqdm\n",
    "\n",
    "#　擬似スコア\n",
    "from sklearn.metrics import recall_score\n",
    "from sklearn.metrics import precision_score\n",
    "from sklearn.metrics import f1_score\n",
    "\n",
    "from sklearn.ensemble import RandomForestClassifier\n",
    "from sklearn.datasets import make_classification\n",
    "from sklearn.metrics import accuracy_score\n",
    "\n",
    "from sklearn.model_selection import GroupKFold\n",
    "from collections import Counter, defaultdict\n",
    "\n",
    "import warnings\n",
    "warnings.filterwarnings('ignore')\n",
    "\n",
    "import sys\n",
    "sys.path.append(\"../src\")\n",
    "\n",
    "import importlib\n",
    "from util import *\n",
    "import util\n",
    "\n",
    "from calc_metrices import *\n",
    "import calc_metrices"
   ]
  },
  {
   "cell_type": "code",
   "execution_count": 2,
   "metadata": {},
   "outputs": [],
   "source": [
    "class Config:\n",
    "\n",
    "  exp = 'ens104'\n",
    "  task = 'task2'\n",
    "  data = 'CB'\n",
    "  stage = \"test\"\n",
    "  \n",
    "  # candidate hypara. group window_size\n",
    "  window_size = 3\n",
    "  co_start_day = 0\n",
    "  co_end_day = 59\n",
    "\n",
    "  # co-visitation matrix\n",
    "  n_ago = 3\n",
    "  \n",
    "  # train test split. taskごとに要変更\n",
    "  # start_uid = 60000\n",
    "  # end_uid = 69999\n",
    "  train_start_day = 0\n",
    "  train_end_day = 59\n",
    "  test_start_day = 60\n",
    "  test_end_day = 74\n",
    "\n",
    "  # train, valid split. taskごとに要変更\n",
    "  model_train_start_day = 0\n",
    "  model_train_end_day = 40\n",
    "  model_valid_start_day = 41\n",
    "  model_valid_end_day = 59\n",
    "\n",
    "  seed = 123\n",
    "  debug = False\n"
   ]
  },
  {
   "cell_type": "code",
   "execution_count": 3,
   "metadata": {},
   "outputs": [],
   "source": [
    "# INPUT_DIR = f'/root/humob/input/pkl/' #各自データがあるパスに変更の必要あり\n",
    "DATA_DIR = f'/root/humob/pub/data/{Config.task}/{Config.data}/'\n",
    "# if not os.path.exists(OUTPUT_DIR):\n",
    "#   os.makedirs(OUTPUT_DIR)\n",
    "# if not os.path.exists(OUTPUT_DIR+Config.stage):\n",
    "#   os.makedirs(OUTPUT_DIR+Config.stage)"
   ]
  },
  {
   "cell_type": "code",
   "execution_count": 4,
   "metadata": {},
   "outputs": [],
   "source": [
    "all_days = [i for i in range(75)]\n",
    "train_weekend_list = [0, 1, 6, 7, 8, 13, 14, 20, 21, 27, 28, 29, 34, 35, 37, 41, 42, 48, 49, 50, 55, 56,]\n",
    "test_not_normal_day = [65, 66, 67, 72, 73]\n",
    "weekend_list = train_weekend_list + test_not_normal_day\n",
    "weekday_list = [day for day in all_days if day not in weekend_list]"
   ]
  },
  {
   "cell_type": "code",
   "execution_count": 5,
   "metadata": {},
   "outputs": [],
   "source": [
    "## Features to train the model\n",
    "FEATURES = ['log_len', 'log_len_mean', 'log_len_median', 'log_len_skew',\n",
    "       'log_len_std', 'over_d',\n",
    "       't0_11_cnt', 't12_23_cnt', 't24_35_cnt', 't36_47_cnt', 'top1_ratio',\n",
    "       'wd', 'wd_flag', 'wd_log_len_mean', 'wd_log_len_median',\n",
    "       'wd_log_len_skew', 'wd_log_len_std', 'xy_nunique']"
   ]
  },
  {
   "cell_type": "code",
   "execution_count": 6,
   "metadata": {},
   "outputs": [],
   "source": [
    "# lgbm_t_grt_make_data_train.ipynb実行済みであることを前提とする\n",
    "pqt_list = list_pqt_files(DATA_DIR+Config.stage)"
   ]
  },
  {
   "cell_type": "code",
   "execution_count": 7,
   "metadata": {},
   "outputs": [],
   "source": [
    "train_df = pd.concat([pd.read_parquet(f\"{DATA_DIR}/train/{pqt}\") for pqt in pqt_list],axis=1)\n",
    "valid_df = pd.concat([pd.read_parquet(f\"{DATA_DIR}/valid/{pqt}\") for pqt in pqt_list],axis=1)\n",
    "test_df = pd.concat([pd.read_parquet(f\"{DATA_DIR}/test/{pqt}\") for pqt in pqt_list],axis=1)"
   ]
  },
  {
   "cell_type": "code",
   "execution_count": 8,
   "metadata": {},
   "outputs": [],
   "source": [
    "train_df[\"target\"] = (train_df[\"pred_t_geobleu\"] > train_df[\"pred_group_t_geobleu\"]) # 出し分けのためのtarget設定"
   ]
  },
  {
   "cell_type": "code",
   "execution_count": 9,
   "metadata": {},
   "outputs": [],
   "source": [
    "# GroupKFold\n",
    "gkf = GroupKFold(n_splits=4)\n",
    "for fold,(train_index, test_index) in enumerate(gkf.split(train_df[FEATURES], train_df['target'], train_df[\"uid\"])):\n",
    "    train_df.loc[test_index, \"group\"] = fold"
   ]
  },
  {
   "cell_type": "markdown",
   "metadata": {},
   "source": [
    "## RF"
   ]
  },
  {
   "cell_type": "code",
   "execution_count": 10,
   "metadata": {},
   "outputs": [
    {
     "name": "stdout",
     "output_type": "stream",
     "text": [
      "----- fold 0 -------\n",
      "acc : 0.5885347197648148\n",
      "f1 : 0.6528728241399898\n",
      "----- fold 1 -------\n",
      "acc : 0.6004028635980074\n",
      "f1 : 0.6612437983154493\n",
      "----- fold 2 -------\n",
      "acc : 0.5947490915030011\n",
      "f1 : 0.6518724643103508\n",
      "----- fold 3 -------\n",
      "acc : 0.5924161585365854\n",
      "f1 : 0.6557851904641485\n"
     ]
    }
   ],
   "source": [
    "train_df[\"proba\"] = -1\n",
    "rf_models = []\n",
    "model_path = f\"{DATA_DIR}/rf004_CB_models.pkl\"\n",
    "\n",
    "if check_exist_file(model_path):\n",
    "    print(\"trained model exists, loading…\")\n",
    "    rf_models = load_file(model_path)\n",
    "for i in range(4):\n",
    "    print(f\"----- fold {i} -------\")\n",
    "    X_train, y_train = train_df.loc[train_df.group!=i][FEATURES], train_df.loc[train_df.group!=i][\"target\"]\n",
    "    X_valid, y_valid = train_df.loc[train_df.group==i][FEATURES], train_df.loc[train_df.group==i][\"target\"]    \n",
    "    if check_exist_file(model_path):\n",
    "        rf_models = load_file(model_path)\n",
    "    else:\n",
    "        model = RandomForestClassifier(max_depth=6,\n",
    "                                    max_features=0.50,\n",
    "                                    n_estimators=500,\n",
    "                                    random_state=2023\n",
    "                                    )\n",
    "        model.fit(X_train, y_train)\n",
    "        rf_models.append(model)\n",
    "    y_pred = rf_models[i].predict_proba(X_valid)\n",
    "    train_df.loc[train_df.group==i,f\"rf_proba{i}\"] = y_pred[:,1]\n",
    "    print(f\"acc : {accuracy_score((y_pred[:,1]>0.5),y_valid)}\")\n",
    "    print(f\"f1 : {f1_score((y_pred[:,1]>0.5),y_valid)}\")\n",
    "if not check_exist_file(model_path):\n",
    "    save_file(rf_models, model_path)"
   ]
  },
  {
   "cell_type": "markdown",
   "metadata": {},
   "source": [
    "## LGBM"
   ]
  },
  {
   "cell_type": "code",
   "execution_count": 11,
   "metadata": {},
   "outputs": [
    {
     "name": "stdout",
     "output_type": "stream",
     "text": [
      "----- fold 0 -------\n",
      "[LightGBM] [Info] Number of positive: 117662, number of negative: 102757\n",
      "[LightGBM] [Info] Auto-choosing row-wise multi-threading, the overhead of testing was 0.001637 seconds.\n",
      "You can set `force_row_wise=true` to remove the overhead.\n",
      "And if memory is not enough, you can set `force_col_wise=true`.\n",
      "[LightGBM] [Info] Total Bins 2351\n",
      "[LightGBM] [Info] Number of data points in the train set: 220419, number of used features: 18\n",
      "[LightGBM] [Info] [binary:BoostFromScore]: pavg=0.533811 -> initscore=0.135449\n",
      "[LightGBM] [Info] Start training from score 0.135449\n",
      "Training until validation scores don't improve for 10 rounds\n",
      "Early stopping, best iteration is:\n",
      "[59]\tvalid_0's binary_logloss: 0.666777\n",
      "acc : 0.5924136429213055\n",
      "f1 : 0.6445586507305379\n",
      "----- fold 1 -------\n",
      "[LightGBM] [Info] Number of positive: 117138, number of negative: 103281\n",
      "[LightGBM] [Info] Auto-choosing row-wise multi-threading, the overhead of testing was 0.002095 seconds.\n",
      "You can set `force_row_wise=true` to remove the overhead.\n",
      "And if memory is not enough, you can set `force_col_wise=true`.\n",
      "[LightGBM] [Info] Total Bins 2353\n",
      "[LightGBM] [Info] Number of data points in the train set: 220419, number of used features: 18\n",
      "[LightGBM] [Info] [binary:BoostFromScore]: pavg=0.531433 -> initscore=0.125899\n",
      "[LightGBM] [Info] Start training from score 0.125899\n",
      "Training until validation scores don't improve for 10 rounds\n",
      "Early stopping, best iteration is:\n",
      "[49]\tvalid_0's binary_logloss: 0.662695\n",
      "acc : 0.601192258485995\n",
      "f1 : 0.6517719202338791\n",
      "----- fold 2 -------\n",
      "[LightGBM] [Info] Number of positive: 117102, number of negative: 103318\n",
      "[LightGBM] [Info] Auto-choosing row-wise multi-threading, the overhead of testing was 0.001602 seconds.\n",
      "You can set `force_row_wise=true` to remove the overhead.\n",
      "And if memory is not enough, you can set `force_col_wise=true`.\n",
      "[LightGBM] [Info] Total Bins 2349\n",
      "[LightGBM] [Info] Number of data points in the train set: 220420, number of used features: 18\n",
      "[LightGBM] [Info] [binary:BoostFromScore]: pavg=0.531268 -> initscore=0.125234\n",
      "[LightGBM] [Info] Start training from score 0.125234\n",
      "Training until validation scores don't improve for 10 rounds\n",
      "Early stopping, best iteration is:\n",
      "[50]\tvalid_0's binary_logloss: 0.662864\n",
      "acc : 0.5978386618213494\n",
      "f1 : 0.6422067228518842\n",
      "----- fold 3 -------\n",
      "[LightGBM] [Info] Number of positive: 117265, number of negative: 103156\n",
      "[LightGBM] [Info] Auto-choosing row-wise multi-threading, the overhead of testing was 0.002548 seconds.\n",
      "You can set `force_row_wise=true` to remove the overhead.\n",
      "And if memory is not enough, you can set `force_col_wise=true`.\n",
      "[LightGBM] [Info] Total Bins 2352\n",
      "[LightGBM] [Info] Number of data points in the train set: 220421, number of used features: 18\n",
      "[LightGBM] [Info] [binary:BoostFromScore]: pavg=0.532005 -> initscore=0.128194\n",
      "[LightGBM] [Info] Start training from score 0.128194\n",
      "Training until validation scores don't improve for 10 rounds\n",
      "Early stopping, best iteration is:\n",
      "[54]\tvalid_0's binary_logloss: 0.663949\n",
      "acc : 0.5967579486062717\n",
      "f1 : 0.6447644512655722\n"
     ]
    }
   ],
   "source": [
    "# train_df[\"lgb_proba\"] = -1\n",
    "lgb_models = []\n",
    "lgb_model_path = f\"{DATA_DIR}/{Config.exp}_lgbmodels.pkl\"\n",
    "\n",
    "if check_exist_file(lgb_model_path):\n",
    "    models = load_file(lgb_model_path)\n",
    "\n",
    "for i in range(4):\n",
    "    print(f\"----- fold {i} -------\")\n",
    "    X_train, y_train = train_df.loc[train_df.group!=i][FEATURES], train_df.loc[train_df.group!=i][\"target\"]\n",
    "    X_valid, y_valid = train_df.loc[train_df.group==i][FEATURES], train_df.loc[train_df.group==i][\"target\"]\n",
    "\n",
    "    lgb_train = lgb.Dataset(X_train, label=y_train)\n",
    "    lgb_valid = lgb.Dataset(X_valid, label=y_valid)\n",
    "\n",
    "    if check_exist_file(lgb_model_path):\n",
    "        models = load_file(lgb_model_path)\n",
    "    else:\n",
    "        params = {\n",
    "            'objective': 'binary',\n",
    "            'metric': 'binary_logloss'\n",
    "        }\n",
    "\n",
    "        model = lgb.train(params, lgb_train,\n",
    "                          valid_sets=[lgb_valid],\n",
    "                          num_boost_round=10000,\n",
    "                          callbacks=[lgb.early_stopping(stopping_rounds=10, verbose=True)]\n",
    "                )\n",
    "\n",
    "        lgb_models.append(model)\n",
    "\n",
    "    y_pred = lgb_models[i].predict(X_valid)\n",
    "    train_df.loc[train_df.group==i, f\"lgb_proba{i}\"] = y_pred\n",
    "\n",
    "    threshold = 0.5  # This threshold can be tuned based on the requirement\n",
    "    print(f\"acc : {accuracy_score((y_pred > threshold).astype(int), y_valid)}\")\n",
    "    print(f\"f1 : {f1_score((y_pred > threshold).astype(int), y_valid)}\")\n",
    "\n",
    "train_df[\"lgb_proba\"] = train_df[[\"lgb_proba0\", \"lgb_proba1\", \"lgb_proba2\", \"lgb_proba3\"]].mean(axis=1)"
   ]
  },
  {
   "cell_type": "markdown",
   "metadata": {},
   "source": [
    "## XGB"
   ]
  },
  {
   "cell_type": "code",
   "execution_count": 12,
   "metadata": {},
   "outputs": [
    {
     "name": "stdout",
     "output_type": "stream",
     "text": [
      "----- fold 0 -------\n",
      "[0]\ttrain-logloss:0.67916\teval-logloss:0.68097\n",
      "[10]\ttrain-logloss:0.65491\teval-logloss:0.66758\n",
      "[20]\ttrain-logloss:0.64976\teval-logloss:0.66787\n",
      "[25]\ttrain-logloss:0.64812\teval-logloss:0.66813\n",
      "acc : 0.5908076326319515\n",
      "f1 : 0.6446931467671981\n",
      "----- fold 1 -------\n",
      "[0]\ttrain-logloss:0.68006\teval-logloss:0.67997\n",
      "[10]\ttrain-logloss:0.65666\teval-logloss:0.66332\n",
      "[20]\ttrain-logloss:0.65136\teval-logloss:0.66369\n",
      "[21]\ttrain-logloss:0.65119\teval-logloss:0.66372\n",
      "acc : 0.5972180635326783\n",
      "f1 : 0.6500981342665941\n",
      "----- fold 2 -------\n",
      "[0]\ttrain-logloss:0.67980\teval-logloss:0.68054\n",
      "[10]\ttrain-logloss:0.65628\teval-logloss:0.66424\n",
      "[18]\ttrain-logloss:0.65159\teval-logloss:0.66471\n",
      "acc : 0.5949124168061737\n",
      "f1 : 0.6438597121010877\n",
      "----- fold 3 -------\n",
      "[0]\ttrain-logloss:0.67962\teval-logloss:0.68049\n",
      "[10]\ttrain-logloss:0.65618\teval-logloss:0.66523\n",
      "[20]\ttrain-logloss:0.65122\teval-logloss:0.66517\n",
      "[26]\ttrain-logloss:0.64847\teval-logloss:0.66568\n",
      "acc : 0.5958324259581882\n",
      "f1 : 0.6455978708422347\n"
     ]
    }
   ],
   "source": [
    "import xgboost as xgb\n",
    "\n",
    "train_df[\"xgb_proba\"] = -1\n",
    "xgb_models = []\n",
    "xgb_model_path = f\"{DATA_DIR}/{Config.exp}_xgbmodels.pkl\"\n",
    "\n",
    "if check_exist_file(xgb_model_path):\n",
    "    xgb_models = load_file(xgb_model_path)\n",
    "    \n",
    "for i in range(4):\n",
    "    print(f\"----- fold {i} -------\")\n",
    "    X_train, y_train = train_df.loc[train_df.group!=i][FEATURES], train_df.loc[train_df.group!=i][\"target\"]\n",
    "    X_valid, y_valid = train_df.loc[train_df.group==i][FEATURES], train_df.loc[train_df.group==i][\"target\"]\n",
    "\n",
    "    dtrain = xgb.DMatrix(X_train, label=y_train)\n",
    "    dvalid = xgb.DMatrix(X_valid, label=y_valid)\n",
    "\n",
    "    if check_exist_file(xgb_model_path):\n",
    "        xgb_models = load_file(xgb_model_path)\n",
    "    else:\n",
    "        param = {'objective': 'binary:logistic'}\n",
    "        evaluation_results = {}\n",
    "        model = xgb.train(param,\n",
    "                        dtrain,\n",
    "                        num_boost_round=10000,\n",
    "                        early_stopping_rounds=10,\n",
    "                        evals=[(dtrain, 'train'), (dvalid, 'eval')],\n",
    "                        evals_result=evaluation_results,\n",
    "                        verbose_eval=10\n",
    "                        )\n",
    "\n",
    "        xgb_models.append(model)\n",
    "\n",
    "\n",
    "    y_pred = xgb_models[i].predict(dvalid)\n",
    "    train_df.loc[train_df.group==i,f\"xgb_proba{i}\"] = y_pred\n",
    "\n",
    "    threshold = 0.5  # This threshold can be tuned based on the requirement\n",
    "    print(f\"acc : {accuracy_score((y_pred > threshold).astype(int), y_valid)}\")\n",
    "    print(f\"f1 : {f1_score((y_pred > threshold).astype(int), y_valid)}\")\n",
    "train_df[\"xgb_proba\"] = train_df[[\"xgb_proba0\", \"xgb_proba1\", \"xgb_proba2\", \"xgb_proba3\"]].mean(axis=1)"
   ]
  },
  {
   "cell_type": "markdown",
   "metadata": {},
   "source": [
    "## Catboost"
   ]
  },
  {
   "cell_type": "code",
   "execution_count": 13,
   "metadata": {},
   "outputs": [
    {
     "name": "stdout",
     "output_type": "stream",
     "text": [
      "----- fold 0 -------\n",
      "Learning rate set to 0.044126\n",
      "0:\tlearn: 0.6911667\ttest: 0.6913248\tbest: 0.6913248 (0)\ttotal: 58.5ms\tremaining: 9m 45s\n",
      "Stopped by overfitting detector  (10 iterations wait)\n",
      "\n",
      "bestTest = 0.6668654741\n",
      "bestIteration = 233\n",
      "\n",
      "Shrink model to first 234 iterations.\n",
      "acc : 0.591937283937175\n",
      "f1 : 0.6464720309404773\n",
      "----- fold 1 -------\n",
      "Learning rate set to 0.044126\n",
      "0:\tlearn: 0.6913056\ttest: 0.6912199\tbest: 0.6912199 (0)\ttotal: 11.4ms\tremaining: 1m 54s\n",
      "Stopped by overfitting detector  (10 iterations wait)\n",
      "\n",
      "bestTest = 0.6621522717\n",
      "bestIteration = 263\n",
      "\n",
      "Shrink model to first 264 iterations.\n",
      "acc : 0.6010017148923429\n",
      "f1 : 0.6544717363632077\n",
      "----- fold 2 -------\n",
      "Learning rate set to 0.044126\n",
      "0:\tlearn: 0.6912677\ttest: 0.6912637\tbest: 0.6912637 (0)\ttotal: 12.4ms\tremaining: 2m 3s\n",
      "Stopped by overfitting detector  (10 iterations wait)\n",
      "\n",
      "bestTest = 0.6623004583\n",
      "bestIteration = 290\n",
      "\n",
      "Shrink model to first 291 iterations.\n",
      "acc : 0.5992541477821784\n",
      "f1 : 0.6472758637213091\n",
      "----- fold 3 -------\n",
      "Learning rate set to 0.044126\n",
      "0:\tlearn: 0.6912560\ttest: 0.6912631\tbest: 0.6912631 (0)\ttotal: 12.3ms\tremaining: 2m 3s\n",
      "Stopped by overfitting detector  (10 iterations wait)\n",
      "\n",
      "bestTest = 0.6630594513\n",
      "bestIteration = 339\n",
      "\n",
      "Shrink model to first 340 iterations.\n",
      "acc : 0.5973568162020906\n",
      "f1 : 0.650463756129261\n"
     ]
    }
   ],
   "source": [
    "import catboost as cb\n",
    "\n",
    "train_df[\"cat_proba\"] = -1\n",
    "cat_models = []\n",
    "cat_model_path = f\"{DATA_DIR}/{Config.exp}_catmodels.pkl\"\n",
    "\n",
    "if check_exist_file(cat_model_path):\n",
    "    cat_models = load_file(cat_model_path)\n",
    "    \n",
    "for i in range(4):\n",
    "    print(f\"----- fold {i} -------\")\n",
    "    X_train, y_train = train_df.loc[train_df.group!=i][FEATURES], train_df.loc[train_df.group!=i][\"target\"]\n",
    "    X_valid, y_valid = train_df.loc[train_df.group==i][FEATURES], train_df.loc[train_df.group==i][\"target\"]\n",
    "\n",
    "    train_dataset = cb.Pool(X_train, y_train)\n",
    "    valid_dataset = cb.Pool(X_valid, y_valid)\n",
    "\n",
    "    if check_exist_file(cat_model_path):\n",
    "        cat_models = load_file(cat_model_path)\n",
    "    else:\n",
    "        model = cb.CatBoostClassifier(iterations=10000,\n",
    "                                      eval_metric='Logloss',\n",
    "                                      early_stopping_rounds=10,\n",
    "                                      verbose=1000)\n",
    "        model.fit(train_dataset, eval_set=valid_dataset)\n",
    "\n",
    "        cat_models.append(model)\n",
    "\n",
    "    y_pred = cat_models[i].predict_proba(valid_dataset)[:, 1]\n",
    "    train_df.loc[train_df.group==i, f\"cat_proba{i}\"] = y_pred\n",
    "\n",
    "    threshold = 0.5  # This threshold can be tuned based on the requirement\n",
    "    print(f\"acc : {accuracy_score((y_pred > threshold).astype(int), y_valid)}\")\n",
    "    print(f\"f1 : {f1_score((y_pred > threshold).astype(int), y_valid)}\")\n",
    "\n",
    "train_df[\"cat_proba\"] = train_df[[\"cat_proba0\", \"cat_proba1\", \"cat_proba2\", \"cat_proba3\"]].mean(axis=1)"
   ]
  },
  {
   "cell_type": "code",
   "execution_count": 14,
   "metadata": {},
   "outputs": [],
   "source": [
    "train_df[\"proba\"] = train_df[[\"lgb_proba0\", \"lgb_proba1\", \"lgb_proba2\", \"lgb_proba3\",\n",
    "                              \"cat_proba0\", \"cat_proba1\", \"cat_proba2\", \"cat_proba3\",\n",
    "                              \"xgb_proba0\", \"xgb_proba1\", \"xgb_proba2\", \"xgb_proba3\",\n",
    "                              \"rf_proba0\", \"rf_proba1\", \"rf_proba2\", \"rf_proba3\"\n",
    "                              ]].mean(axis=1)"
   ]
  },
  {
   "cell_type": "code",
   "execution_count": 15,
   "metadata": {},
   "outputs": [
    {
     "name": "stdout",
     "output_type": "stream",
     "text": [
      "train score\n"
     ]
    }
   ],
   "source": [
    "def calc_ml_geobleu(train_df, proba, thr):\n",
    "\n",
    "    train_df.loc[train_df[proba]>thr,\"pred_score\"] =  train_df.loc[train_df[proba]>thr, \"pred_t_geobleu\"]\n",
    "    train_df.loc[train_df[proba]<=thr,\"pred_score\"] =  train_df.loc[train_df[proba]<=thr, \"pred_group_t_geobleu\"]\n",
    "\n",
    "    print(f\"weekday\",np.mean(train_df.loc[train_df.d.isin(weekday_list)].groupby(\"uid\")[\"pred_score\"].mean()))\n",
    "    print(f\"weekend\",np.mean(train_df.loc[train_df.d.isin(weekend_list)].groupby(\"uid\")[\"pred_score\"].mean()))\n",
    "    # print(f\"weekend : {weekend_t_score*(weekend_t_df.shape[0]/weekend_df.shape[0]) + weekend_grt_score*(weekend_grt_df.shape[0]/weekend_df.shape[0])}\")\n",
    "\n",
    "    geobleu_score = np.mean(train_df.groupby([\"uid\"])[\"pred_score\"].mean())\n",
    "    return geobleu_score\n",
    "    \n",
    "thr = 0.55 # train_dfでthr調整した.\n",
    "print(\"train score\")"
   ]
  },
  {
   "cell_type": "code",
   "execution_count": 16,
   "metadata": {},
   "outputs": [
    {
     "name": "stdout",
     "output_type": "stream",
     "text": [
      "weekday 0.2469817133174549\n"
     ]
    },
    {
     "name": "stdout",
     "output_type": "stream",
     "text": [
      "weekend 0.21143829511972764\n",
      "weekday 0.24704306463066722\n",
      "weekend 0.21319750338076057\n",
      "weekday 0.24713250200159592\n",
      "weekend 0.2147383402794173\n",
      "weekday 0.24723179196773262\n",
      "weekend 0.21595166613152647\n",
      "weekday 0.247330011558158\n",
      "weekend 0.21695257845438523\n",
      "weekday 0.24756986009533322\n",
      "weekend 0.21785740520649513\n",
      "weekday 0.24782321301289367\n",
      "weekend 0.21866804919595184\n",
      "weekday 0.24813182576090395\n",
      "weekend 0.2192435903359025\n",
      "weekday 0.24849368585669357\n",
      "weekend 0.21982084823565046\n",
      "weekday 0.24875145657415124\n",
      "weekend 0.22018545626724795\n",
      "weekday 0.24903748883650292\n",
      "weekend 0.22054756273530324\n",
      "weekday 0.24916942914258902\n",
      "weekend 0.22074361804985443\n",
      "weekday 0.24935303073842943\n",
      "weekend 0.22087784067780447\n",
      "weekday 0.24944620865169487\n",
      "weekend 0.2209981456773887\n",
      "weekday 0.24942190016422977\n",
      "weekend 0.22102874886317794\n",
      "weekday 0.24931332597427122\n",
      "weekend 0.22099485671593042\n",
      "weekday 0.24911125614486554\n",
      "weekend 0.22096594446592827\n",
      "weekday 0.248861597464339\n",
      "weekend 0.2209876708051052\n",
      "weekday 0.2485237667977627\n",
      "weekend 0.2209501911823914\n",
      "weekday 0.2482459267026742\n",
      "weekend 0.2208878067757227\n",
      "weekday 0.24787222113105936\n",
      "weekend 0.22079409507942177\n",
      "weekday 0.24752260105785923\n",
      "weekend 0.22063966273995816\n",
      "weekday 0.24709490237102355\n",
      "weekend 0.2205471427753235\n",
      "weekday 0.24656045360122308\n",
      "weekend 0.22043375714490807\n",
      "weekday 0.2459644066196711\n",
      "weekend 0.22026205074024024\n",
      "0.24030408363800676 0.53\n"
     ]
    },
    {
     "data": {
      "text/plain": [
       "Text(0.5, 1.0, 'ensamble train thr-geobleu curve')"
      ]
     },
     "execution_count": 16,
     "metadata": {},
     "output_type": "execute_result"
    },
    {
     "data": {
      "image/png": "[encoded data removed]",
      "text/plain": [
       "<Figure size 640x480 with 1 Axes>"
      ]
     },
     "metadata": {},
     "output_type": "display_data"
    }
   ],
   "source": [
    "thr_list = [0.40+i*0.01 for i in range(0, 25)]\n",
    "fig, ax = plt.subplots()\n",
    "geobleu_list = [calc_ml_geobleu(train_df, \"proba\", thr=thr) for thr in thr_list]\n",
    "print(np.max(geobleu_list), thr_list[np.argmax(geobleu_list)])\n",
    "ax.plot(thr_list, geobleu_list)\n",
    "ax.set_xlabel(\"thr\")\n",
    "ax.set_ylabel(\"geobleu\")\n",
    "ax.set_title(\"ensamble train thr-geobleu curve\")"
   ]
  },
  {
   "cell_type": "markdown",
   "metadata": {},
   "source": [
    "## Valid"
   ]
  },
  {
   "cell_type": "code",
   "execution_count": 17,
   "metadata": {},
   "outputs": [],
   "source": [
    "models_list = [lgb_models, cat_models, xgb_models, rf_models]"
   ]
  },
  {
   "cell_type": "code",
   "execution_count": 18,
   "metadata": {},
   "outputs": [
    {
     "name": "stdout",
     "output_type": "stream",
     "text": [
      "lgb\n"
     ]
    },
    {
     "name": "stdout",
     "output_type": "stream",
     "text": [
      "cat\n",
      "xgb\n",
      "rf\n"
     ]
    }
   ],
   "source": [
    "for name, models in zip([\"lgb\", \"cat\", \"xgb\", \"rf\"], models_list):\n",
    "    print(name)\n",
    "    for i, model in enumerate(models):\n",
    "        if name == \"xgb\":\n",
    "            valid_df[f\"{name}_proba{i}\"] = model.predict(xgb.DMatrix(valid_df[FEATURES]))\n",
    "        elif name == \"lgb\":\n",
    "            valid_df[f\"{name}_proba{i}\"] = model.predict(valid_df[FEATURES])\n",
    "        else:\n",
    "            valid_df[f\"{name}_proba{i}\"] = model.predict_proba(valid_df[FEATURES])[:,1]"
   ]
  },
  {
   "cell_type": "code",
   "execution_count": 19,
   "metadata": {},
   "outputs": [],
   "source": [
    "valid_df[\"proba\"] = valid_df[[\"lgb_proba0\", \"lgb_proba1\", \"lgb_proba2\", \"lgb_proba3\",\n",
    "                              \"cat_proba0\", \"cat_proba1\", \"cat_proba2\", \"cat_proba3\",\n",
    "                              \"xgb_proba0\", \"xgb_proba1\", \"xgb_proba2\", \"xgb_proba3\",\n",
    "                              \"rf_proba0\", \"rf_proba1\", \"rf_proba2\", \"rf_proba3\"\n",
    "                              ]].mean(axis=1)"
   ]
  },
  {
   "cell_type": "code",
   "execution_count": 20,
   "metadata": {},
   "outputs": [
    {
     "name": "stdout",
     "output_type": "stream",
     "text": [
      "valid score\n",
      "weekday 0.23911921243463957\n",
      "weekend 0.1972293851990041\n"
     ]
    },
    {
     "data": {
      "text/plain": [
       "0.2254267184996922"
      ]
     },
     "execution_count": 20,
     "metadata": {},
     "output_type": "execute_result"
    }
   ],
   "source": [
    "print(\"valid score\")\n",
    "thr = 0.53\n",
    "calc_ml_geobleu(valid_df, \"proba\",thr=thr)"
   ]
  },
  {
   "cell_type": "code",
   "execution_count": 21,
   "metadata": {},
   "outputs": [
    {
     "name": "stdout",
     "output_type": "stream",
     "text": [
      "weekday 0.23672995013671275\n",
      "weekend 0.18539023864478618\n",
      "weekday 0.23675984409183792\n",
      "weekend 0.1879859867851863\n",
      "weekday 0.23680017579869445\n",
      "weekend 0.19004786088010023\n",
      "weekday 0.23695304345742324\n",
      "weekend 0.1915750746225797\n",
      "weekday 0.23707499572433235\n",
      "weekend 0.19282966105849278\n",
      "weekday 0.23730141042340455\n",
      "weekend 0.19407240841177203\n",
      "weekday 0.2376963513590863\n",
      "weekend 0.19499889133786058\n",
      "weekday 0.23809375538303612\n",
      "weekend 0.19573410617695242\n",
      "weekday 0.23838203431708702\n",
      "weekend 0.19617850101619436\n",
      "weekday 0.2387662555670932\n",
      "weekend 0.19647325366553933\n",
      "weekday 0.2389801410648674\n",
      "weekend 0.1968994608592359\n",
      "weekday 0.23910928281536126\n",
      "weekend 0.1971896852192804\n",
      "weekday 0.23917069968853372\n",
      "weekend 0.19717015567497093\n",
      "weekday 0.23911921243463957\n",
      "weekend 0.1972293851990041\n",
      "weekday 0.23912824847494504\n",
      "weekend 0.1971380400748875\n",
      "weekday 0.23890281342501407\n",
      "weekend 0.19723593394922526\n",
      "weekday 0.2385080334912819\n",
      "weekend 0.19732306209183298\n",
      "weekday 0.23809996696026414\n",
      "weekend 0.19727162884329377\n",
      "weekday 0.23766149708800313\n",
      "weekend 0.19727877759775803\n",
      "weekday 0.237163988897574\n",
      "weekend 0.1972040099675886\n",
      "weekday 0.23661511352316875\n",
      "weekend 0.19719579052762218\n",
      "weekday 0.23613831004190028\n",
      "weekend 0.1972386743076362\n",
      "weekday 0.23558891270215782\n",
      "weekend 0.1971437386569261\n",
      "weekday 0.23489110365398347\n",
      "weekend 0.1969677905945626\n",
      "weekday 0.23404147504577985\n",
      "weekend 0.19686787128896122\n",
      "0.22544395343030027 0.52\n"
     ]
    },
    {
     "data": {
      "text/plain": [
       "Text(0.5, 1.0, 'ensamble valid thr-geobleu curve')"
      ]
     },
     "execution_count": 21,
     "metadata": {},
     "output_type": "execute_result"
    },
    {
     "data": {
      "image/png": "[encoded data removed]",
      "text/plain": [
       "<Figure size 640x480 with 1 Axes>"
      ]
     },
     "metadata": {},
     "output_type": "display_data"
    }
   ],
   "source": [
    "thr_list = [0.40+i*0.01 for i in range(0, 25)]\n",
    "fig, ax = plt.subplots()\n",
    "geobleu_list = [calc_ml_geobleu(valid_df, \"proba\", thr=thr) for thr in thr_list]\n",
    "print(np.max(geobleu_list), thr_list[np.argmax(geobleu_list)])\n",
    "ax.plot(thr_list, geobleu_list)\n",
    "ax.set_xlabel(\"thr\")\n",
    "ax.set_ylabel(\"geobleu\")\n",
    "ax.set_title(\"ensamble valid thr-geobleu curve\")"
   ]
  },
  {
   "cell_type": "code",
   "execution_count": 22,
   "metadata": {},
   "outputs": [],
   "source": [
    "valid_df[[\"uid\" ,\"d\", \"wd\", \"proba\"]].to_csv(f\"{DATA_DIR}/valid_ensamble_output.csv\", index=False)"
   ]
  },
  {
   "cell_type": "markdown",
   "metadata": {},
   "source": [
    "## Test"
   ]
  },
  {
   "cell_type": "code",
   "execution_count": 23,
   "metadata": {},
   "outputs": [
    {
     "name": "stdout",
     "output_type": "stream",
     "text": [
      "lgb\n",
      "cat\n",
      "xgb\n",
      "rf\n"
     ]
    }
   ],
   "source": [
    "for name, models in zip([\"lgb\", \"cat\", \"xgb\", \"rf\"], models_list):\n",
    "    print(name)\n",
    "    for i, model in enumerate(models):\n",
    "        if name == \"xgb\":\n",
    "            test_df[f\"{name}_proba{i}\"] = model.predict(xgb.DMatrix(test_df[FEATURES]))\n",
    "        elif name == \"lgb\":\n",
    "            test_df[f\"{name}_proba{i}\"] = model.predict(test_df[FEATURES])\n",
    "        else:\n",
    "            test_df[f\"{name}_proba{i}\"] = model.predict_proba(test_df[FEATURES])[:,1]"
   ]
  },
  {
   "cell_type": "code",
   "execution_count": 24,
   "metadata": {},
   "outputs": [],
   "source": [
    "test_df[\"proba\"] = test_df[[\"lgb_proba0\", \"lgb_proba1\", \"lgb_proba2\", \"lgb_proba3\",\n",
    "                              \"cat_proba0\", \"cat_proba1\", \"cat_proba2\", \"cat_proba3\",\n",
    "                              \"xgb_proba0\", \"xgb_proba1\", \"xgb_proba2\", \"xgb_proba3\",\n",
    "                              \"rf_proba0\", \"rf_proba1\", \"rf_proba2\", \"rf_proba3\"\n",
    "                              ]].mean(axis=1)"
   ]
  },
  {
   "cell_type": "code",
   "execution_count": 25,
   "metadata": {},
   "outputs": [],
   "source": [
    "test_df[[\"uid\" ,\"d\", \"wd\", \"proba\"]].to_csv(f\"{DATA_DIR}/test_ensamble_output.csv\", index=False)"
   ]
  },
  {
   "cell_type": "markdown",
   "metadata": {},
   "source": [
    "EOF"
   ]
  }
 ],
 "metadata": {
  "kernelspec": {
   "display_name": "rapids",
   "language": "python",
   "name": "python3"
  },
  "language_info": {
   "codemirror_mode": {
    "name": "ipython",
    "version": 3
   },
   "file_extension": ".py",
   "mimetype": "text/x-python",
   "name": "python",
   "nbconvert_exporter": "python",
   "pygments_lexer": "ipython3",
   "version": "3.10.11"
  },
  "orig_nbformat": 4
 },
 "nbformat": 4,
 "nbformat_minor": 2
}
